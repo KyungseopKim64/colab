{
  "nbformat": 4,
  "nbformat_minor": 0,
  "metadata": {
    "colab": {
      "provenance": []
    },
    "kernelspec": {
      "name": "python3",
      "display_name": "Python 3"
    },
    "language_info": {
      "name": "python"
    }
  },
  "cells": [
    {
      "cell_type": "code",
      "execution_count": 1,
      "metadata": {
        "colab": {
          "base_uri": "https://localhost:8080/"
        },
        "id": "mAWe_I5KVRNN",
        "outputId": "4280f6d9-d726-4318-d267-1798e39a096d"
      },
      "outputs": [
        {
          "output_type": "stream",
          "name": "stdout",
          "text": [
            "colab\n"
          ]
        }
      ],
      "source": [
        "print(\"colab\")"
      ]
    },
    {
      "cell_type": "code",
      "source": [
        "!git clone https://github.com/KyungseopKim64/colab.git"
      ],
      "metadata": {
        "colab": {
          "base_uri": "https://localhost:8080/"
        },
        "id": "UCVDVjczVS_l",
        "outputId": "f7cfa3a1-5234-4183-9604-4ab3abfce473"
      },
      "execution_count": 2,
      "outputs": [
        {
          "output_type": "stream",
          "name": "stdout",
          "text": [
            "Cloning into 'colab'...\n",
            "warning: You appear to have cloned an empty repository.\n"
          ]
        }
      ]
    },
    {
      "cell_type": "code",
      "source": [],
      "metadata": {
        "id": "0M_2x2N7V1Va"
      },
      "execution_count": null,
      "outputs": []
    }
  ]
}